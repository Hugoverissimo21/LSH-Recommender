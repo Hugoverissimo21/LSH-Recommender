{
 "cells": [
  {
   "cell_type": "markdown",
   "id": "505c3a2c",
   "metadata": {},
   "source": [
    "Implement a CF algorithm, using the item-item approach, to recommend new\n",
    "movies to users.\n",
    "\n",
    "Start with the 100,000 ratings (Small) dataset, and afterwards try to apply\n",
    "your methods to the larger datasets (1M, 10M, 20M, 25M).\n",
    "\n",
    "You will need to implement an efficient approach for finding the near neighbors\n",
    "needed for predicting new rating (either LSH or clustering).\n",
    "\n",
    "Validate your method by leaving out 10% of the available ratings."
   ]
  },
  {
   "cell_type": "markdown",
   "id": "51538ba4",
   "metadata": {},
   "source": [
    "---"
   ]
  },
  {
   "cell_type": "markdown",
   "id": "0b8d36cf",
   "metadata": {},
   "source": [
    "# Setup"
   ]
  },
  {
   "cell_type": "markdown",
   "id": "ecea2ddd",
   "metadata": {},
   "source": [
    "setup spark session and read the data"
   ]
  },
  {
   "cell_type": "code",
   "execution_count": 1,
   "id": "03894df1",
   "metadata": {},
   "outputs": [
    {
     "name": "stderr",
     "output_type": "stream",
     "text": [
      "Setting default log level to \"WARN\".\n",
      "To adjust logging level use sc.setLogLevel(newLevel). For SparkR, use setLogLevel(newLevel).\n",
      "25/05/16 23:07:17 WARN NativeCodeLoader: Unable to load native-hadoop library for your platform... using builtin-java classes where applicable\n"
     ]
    },
    {
     "data": {
      "text/plain": [
       "[Row(userId=1, movieId=1, rating=4.0),\n",
       " Row(userId=1, movieId=3, rating=4.0),\n",
       " Row(userId=1, movieId=6, rating=4.0),\n",
       " Row(userId=1, movieId=47, rating=5.0),\n",
       " Row(userId=1, movieId=50, rating=5.0)]"
      ]
     },
     "execution_count": 1,
     "metadata": {},
     "output_type": "execute_result"
    }
   ],
   "source": [
    "from pyspark.sql import SparkSession\n",
    "\n",
    "spark = SparkSession.builder \\\n",
    "    .appName(\"ItemItemCF\") \\\n",
    "    .config(\"spark.driver.memory\", \"4g\") \\\n",
    "    .getOrCreate()\n",
    "\n",
    "data = spark.read.csv(\"data/100k.csv\", header=True, inferSchema=True) \\\n",
    "            .select(\"userId\", \"movieId\", \"rating\")\n",
    "\n",
    "data.take(5)"
   ]
  },
  {
   "cell_type": "markdown",
   "id": "361559f7",
   "metadata": {},
   "source": [
    "split into train and test"
   ]
  },
  {
   "cell_type": "code",
   "execution_count": 2,
   "id": "20c97ef6",
   "metadata": {},
   "outputs": [],
   "source": [
    "ratings, test = data.randomSplit([0.9, 0.1], seed=42)"
   ]
  },
  {
   "cell_type": "markdown",
   "id": "3bc820bd",
   "metadata": {},
   "source": [
    "# Fitting"
   ]
  },
  {
   "cell_type": "markdown",
   "id": "6ddcfce2",
   "metadata": {},
   "source": [
    "create item vectors for each movie\n",
    "\n",
    "e.g.: `movieID: {user: rating}`"
   ]
  },
  {
   "cell_type": "code",
   "execution_count": 3,
   "id": "37ce8370",
   "metadata": {},
   "outputs": [
    {
     "name": "stderr",
     "output_type": "stream",
     "text": [
      "OpenJDK 64-Bit Server VM warning: CodeCache is full. Compiler has been disabled.\n",
      "OpenJDK 64-Bit Server VM warning: Try increasing the code cache size using -XX:ReservedCodeCacheSize=\n"
     ]
    },
    {
     "name": "stdout",
     "output_type": "stream",
     "text": [
      "CodeCache: size=131072Kb used=23225Kb max_used=23237Kb free=107846Kb\n",
      " bounds [0x000000010918c000, 0x000000010a85c000, 0x000000011118c000]\n",
      " total_blobs=9260 nmethods=8306 adapters=867\n",
      " compilation: disabled (not enough contiguous free space left)\n"
     ]
    },
    {
     "name": "stderr",
     "output_type": "stream",
     "text": [
      "                                                                                \r"
     ]
    },
    {
     "data": {
      "text/plain": [
       "[Row(movieId=1, features=SparseVector(610, {0: 4.0, 4: 4.0, 6: 4.5, 16: 4.5, 17: 3.5, 18: 4.0, 20: 3.5, 26: 3.0, 30: 5.0, 31: 3.0, 32: 3.0, 39: 5.0, 42: 5.0, 43: 3.0, 44: 4.0, 45: 5.0, 49: 3.0, 53: 3.0, 56: 5.0, 62: 5.0, 63: 4.0, 65: 4.0, 67: 2.5, 70: 5.0, 72: 4.5, 77: 4.0, 81: 2.5, 85: 4.0, 88: 3.0, 90: 4.0, 92: 3.0, 95: 5.0, 97: 4.5, 102: 4.0, 106: 4.0, 111: 3.0, 118: 3.5, 120: 4.0, 129: 3.0, 131: 2.0, 133: 3.0, 134: 4.0, 136: 4.0, 139: 3.0, 140: 4.0, 143: 3.5, 144: 5.0, 150: 5.0, 152: 2.0, 154: 3.0, 155: 4.0, 158: 4.5, 159: 4.0, 160: 4.0, 165: 5.0, 166: 3.5, 168: 4.5, 170: 5.0, 176: 5.0, 177: 4.0, 178: 4.0, 181: 4.0, 184: 4.0, 185: 4.0, 190: 4.0, 192: 2.0, 200: 5.0, 201: 4.0, 205: 5.0, 212: 3.5, 213: 3.0, 215: 3.0, 216: 4.0, 222: 3.5, 225: 3.5, 231: 3.5, 232: 3.0, 238: 4.0, 239: 5.0, 246: 5.0, 248: 4.0, 251: 4.5, 262: 4.0, 263: 4.0, 265: 2.0, 269: 5.0, 272: 5.0, 273: 4.0, 274: 5.0, 275: 4.0, 276: 4.0, 278: 3.0, 279: 4.5, 287: 4.5, 289: 4.0, 290: 4.0, 291: 4.0, 292: 3.0, 297: 2.0, 303: 5.0, 306: 4.0, 313: 3.0, 322: 3.5, 327: 5.0, 329: 4.0, 331: 4.0, 333: 3.5, 335: 4.0, 336: 4.0, 338: 4.0, 340: 5.0, 346: 5.0, 349: 4.0, 352: 5.0, 356: 5.0, 358: 4.0, 363: 5.0, 366: 5.0, 371: 3.0, 372: 3.0, 377: 4.5, 379: 5.0, 380: 3.5, 381: 4.5, 384: 4.0, 388: 5.0, 390: 3.0, 395: 5.0, 398: 4.0, 410: 5.0, 411: 2.0, 419: 4.0, 421: 4.0, 431: 2.5, 435: 4.0, 437: 4.5, 447: 5.0, 450: 5.0, 452: 5.0, 455: 5.0, 459: 4.5, 461: 1.5, 467: 4.0, 468: 4.0, 469: 4.0, 470: 5.0, 473: 4.0, 475: 4.0, 476: 4.0, 479: 3.0, 482: 4.0, 483: 4.5, 487: 4.5, 489: 3.5, 491: 4.0, 499: 4.0, 503: 4.0, 508: 4.0, 513: 4.0, 516: 4.0, 521: 3.0, 523: 4.0, 524: 4.0, 527: 2.5, 528: 3.0, 532: 5.0, 533: 4.0, 540: 3.0, 543: 3.0, 549: 4.0, 554: 4.0, 558: 5.0, 559: 3.0, 560: 4.0, 561: 4.5, 566: 3.5, 569: 4.0, 571: 4.0, 572: 5.0, 578: 4.0, 579: 3.0, 583: 5.0, 586: 5.0, 589: 4.0, 595: 4.0, 596: 4.0, 598: 3.0, 599: 2.5, 600: 4.0, 602: 4.0, 603: 3.0, 604: 4.0, 605: 2.5, 606: 4.0, 607: 2.5, 608: 3.0, 609: 5.0})),\n",
       " Row(movieId=2, features=SparseVector(610, {5: 4.0, 7: 4.0, 17: 3.0, 18: 3.0, 19: 3.0, 20: 3.5, 26: 4.0, 50: 4.5, 61: 4.0, 67: 2.5, 81: 3.0, 90: 3.0, 93: 4.0, 102: 4.0, 103: 3.0, 106: 5.0, 116: 3.0, 121: 4.0, 124: 4.0, 134: 3.0, 139: 3.5, 143: 3.0, 148: 1.0, 152: 2.0, 159: 4.0, 176: 3.5, 185: 4.0, 201: 4.0, 220: 3.5, 221: 2.5, 225: 3.0, 231: 4.0, 239: 5.0, 248: 4.0, 258: 2.0, 273: 3.5, 275: 4.0, 283: 4.0, 287: 2.0, 293: 3.0, 297: 0.5, 298: 3.0, 303: 4.0, 304: 3.5, 307: 3.0, 317: 3.5, 320: 5.0, 321: 3.0, 322: 4.0, 329: 1.5, 346: 3.0, 356: 3.0, 358: 3.5, 372: 3.0, 379: 5.0, 380: 4.0, 410: 4.0, 413: 3.0, 424: 3.0, 425: 4.5, 431: 4.0, 435: 4.0, 445: 3.0, 446: 5.0, 447: 3.0, 457: 4.0, 469: 3.0, 473: 3.0, 475: 4.0, 476: 4.0, 479: 3.0, 482: 4.0, 483: 2.5, 488: 2.5, 496: 2.5, 500: 3.0, 511: 3.0, 516: 3.0, 522: 4.5, 524: 3.5, 526: 4.0, 558: 4.0, 560: 4.0, 562: 2.5, 565: 4.0, 569: 3.5, 572: 4.5, 585: 4.0, 598: 2.5, 599: 4.0, 601: 4.0, 603: 5.0, 604: 3.5, 607: 2.0})),\n",
       " Row(movieId=3, features=SparseVector(610, {0: 4.0, 5: 5.0, 18: 3.0, 31: 3.0, 41: 4.0, 42: 5.0, 43: 3.0, 50: 4.0, 57: 3.0, 67: 2.0, 90: 3.0, 99: 3.5, 101: 5.0, 115: 3.5, 116: 3.0, 149: 3.0, 150: 3.0, 178: 4.0, 216: 1.0, 225: 3.5, 239: 4.0, 269: 3.0, 287: 4.0, 288: 2.5, 293: 1.0, 301: 3.0, 306: 3.5, 307: 0.5, 320: 3.0, 329: 3.0, 336: 4.0, 367: 3.0, 409: 4.0, 447: 3.0, 455: 3.0, 469: 3.0, 476: 3.0, 491: 4.0, 500: 5.0, 543: 3.0, 554: 5.0, 587: 3.0, 589: 3.0, 593: 4.0, 598: 1.5, 607: 2.0})),\n",
       " Row(movieId=4, features=SparseVector(610, {5: 3.0, 13: 3.0, 83: 3.0, 261: 1.0, 410: 2.0, 599: 1.5})),\n",
       " Row(movieId=5, features=SparseVector(610, {5: 5.0, 30: 3.0, 42: 5.0, 44: 3.0, 57: 4.0, 65: 4.0, 67: 2.0, 83: 3.0, 102: 4.0, 106: 4.0, 110: 3.5, 116: 3.0, 119: 4.0, 120: 3.0, 146: 4.5, 168: 5.0, 169: 3.0, 180: 3.0, 199: 4.0, 228: 3.0, 268: 3.0, 269: 3.0, 275: 3.0, 287: 2.0, 320: 3.0, 352: 3.0, 388: 4.0, 401: 3.0, 413: 2.0, 436: 2.0, 447: 3.0, 450: 3.0, 455: 3.0, 457: 3.0, 469: 3.0, 473: 1.5, 482: 2.5, 488: 2.0, 489: 0.5, 491: 3.0, 500: 3.0, 508: 1.5, 520: 3.0, 560: 3.0, 589: 2.0, 599: 2.5, 603: 3.0}))]"
      ]
     },
     "execution_count": 3,
     "metadata": {},
     "output_type": "execute_result"
    }
   ],
   "source": [
    "from pyspark.sql.functions import collect_list, struct\n",
    "from pyspark.ml.linalg import Vectors, SparseVector\n",
    "from pyspark.sql import Row\n",
    "\n",
    "# get the number of unique users\n",
    "num_users = ratings.select(\"userId\").distinct().count()\n",
    "\n",
    "# create the sparse vector for movie function\n",
    "def to_sparse_vector(user_ratings, size):\n",
    "    # Sort by userId to get strictly increasing indices\n",
    "    sorted_pairs = sorted(user_ratings, key=lambda x: x.userId)\n",
    "    indices = [x.userId - 1 for x in sorted_pairs]\n",
    "    values = [x.rating for x in sorted_pairs]\n",
    "    return Vectors.sparse(size, indices, values)\n",
    "\n",
    "# group by movieId and collect user ratings\n",
    "item_user = ratings.groupBy(\"movieId\") \\\n",
    "    .agg(collect_list(struct(\"userId\", \"rating\")).alias(\"user_ratings\"))\n",
    "\n",
    "# convert that to a sparse vector\n",
    "item_vector_rdd = item_user.rdd.map(\n",
    "    lambda row: Row(\n",
    "        movieId=row[\"movieId\"],\n",
    "        features=to_sparse_vector(row[\"user_ratings\"], num_users)\n",
    "    )\n",
    ")\n",
    "\n",
    "# convert to DataFrame because of Normalizer (MLlib)\n",
    "item_vectors = spark.createDataFrame(item_vector_rdd)\n",
    "\n",
    "item_vectors.take(5)"
   ]
  },
  {
   "cell_type": "markdown",
   "id": "3ef625b8",
   "metadata": {},
   "source": [
    "normalize the vectors because a user rating [1, 2] has the same preferences as another rating [2, 4], only the direction matters"
   ]
  },
  {
   "cell_type": "code",
   "execution_count": 4,
   "id": "12e3f497",
   "metadata": {},
   "outputs": [
    {
     "data": {
      "text/plain": [
       "[Row(movieId=1, features=SparseVector(610, {0: 4.0, 4: 4.0, 6: 4.5, 16: 4.5, 17: 3.5, 18: 4.0, 20: 3.5, 26: 3.0, 30: 5.0, 31: 3.0, 32: 3.0, 39: 5.0, 42: 5.0, 43: 3.0, 44: 4.0, 45: 5.0, 49: 3.0, 53: 3.0, 56: 5.0, 62: 5.0, 63: 4.0, 65: 4.0, 67: 2.5, 70: 5.0, 72: 4.5, 77: 4.0, 81: 2.5, 85: 4.0, 88: 3.0, 90: 4.0, 92: 3.0, 95: 5.0, 97: 4.5, 102: 4.0, 106: 4.0, 111: 3.0, 118: 3.5, 120: 4.0, 129: 3.0, 131: 2.0, 133: 3.0, 134: 4.0, 136: 4.0, 139: 3.0, 140: 4.0, 143: 3.5, 144: 5.0, 150: 5.0, 152: 2.0, 154: 3.0, 155: 4.0, 158: 4.5, 159: 4.0, 160: 4.0, 165: 5.0, 166: 3.5, 168: 4.5, 170: 5.0, 176: 5.0, 177: 4.0, 178: 4.0, 181: 4.0, 184: 4.0, 185: 4.0, 190: 4.0, 192: 2.0, 200: 5.0, 201: 4.0, 205: 5.0, 212: 3.5, 213: 3.0, 215: 3.0, 216: 4.0, 222: 3.5, 225: 3.5, 231: 3.5, 232: 3.0, 238: 4.0, 239: 5.0, 246: 5.0, 248: 4.0, 251: 4.5, 262: 4.0, 263: 4.0, 265: 2.0, 269: 5.0, 272: 5.0, 273: 4.0, 274: 5.0, 275: 4.0, 276: 4.0, 278: 3.0, 279: 4.5, 287: 4.5, 289: 4.0, 290: 4.0, 291: 4.0, 292: 3.0, 297: 2.0, 303: 5.0, 306: 4.0, 313: 3.0, 322: 3.5, 327: 5.0, 329: 4.0, 331: 4.0, 333: 3.5, 335: 4.0, 336: 4.0, 338: 4.0, 340: 5.0, 346: 5.0, 349: 4.0, 352: 5.0, 356: 5.0, 358: 4.0, 363: 5.0, 366: 5.0, 371: 3.0, 372: 3.0, 377: 4.5, 379: 5.0, 380: 3.5, 381: 4.5, 384: 4.0, 388: 5.0, 390: 3.0, 395: 5.0, 398: 4.0, 410: 5.0, 411: 2.0, 419: 4.0, 421: 4.0, 431: 2.5, 435: 4.0, 437: 4.5, 447: 5.0, 450: 5.0, 452: 5.0, 455: 5.0, 459: 4.5, 461: 1.5, 467: 4.0, 468: 4.0, 469: 4.0, 470: 5.0, 473: 4.0, 475: 4.0, 476: 4.0, 479: 3.0, 482: 4.0, 483: 4.5, 487: 4.5, 489: 3.5, 491: 4.0, 499: 4.0, 503: 4.0, 508: 4.0, 513: 4.0, 516: 4.0, 521: 3.0, 523: 4.0, 524: 4.0, 527: 2.5, 528: 3.0, 532: 5.0, 533: 4.0, 540: 3.0, 543: 3.0, 549: 4.0, 554: 4.0, 558: 5.0, 559: 3.0, 560: 4.0, 561: 4.5, 566: 3.5, 569: 4.0, 571: 4.0, 572: 5.0, 578: 4.0, 579: 3.0, 583: 5.0, 586: 5.0, 589: 4.0, 595: 4.0, 596: 4.0, 598: 3.0, 599: 2.5, 600: 4.0, 602: 4.0, 603: 3.0, 604: 4.0, 605: 2.5, 606: 4.0, 607: 2.5, 608: 3.0, 609: 5.0}), norm_features=SparseVector(610, {0: 0.071, 4: 0.071, 6: 0.0798, 16: 0.0798, 17: 0.0621, 18: 0.071, 20: 0.0621, 26: 0.0532, 30: 0.0887, 31: 0.0532, 32: 0.0532, 39: 0.0887, 42: 0.0887, 43: 0.0532, 44: 0.071, 45: 0.0887, 49: 0.0532, 53: 0.0532, 56: 0.0887, 62: 0.0887, 63: 0.071, 65: 0.071, 67: 0.0444, 70: 0.0887, 72: 0.0798, 77: 0.071, 81: 0.0444, 85: 0.071, 88: 0.0532, 90: 0.071, 92: 0.0532, 95: 0.0887, 97: 0.0798, 102: 0.071, 106: 0.071, 111: 0.0532, 118: 0.0621, 120: 0.071, 129: 0.0532, 131: 0.0355, 133: 0.0532, 134: 0.071, 136: 0.071, 139: 0.0532, 140: 0.071, 143: 0.0621, 144: 0.0887, 150: 0.0887, 152: 0.0355, 154: 0.0532, 155: 0.071, 158: 0.0798, 159: 0.071, 160: 0.071, 165: 0.0887, 166: 0.0621, 168: 0.0798, 170: 0.0887, 176: 0.0887, 177: 0.071, 178: 0.071, 181: 0.071, 184: 0.071, 185: 0.071, 190: 0.071, 192: 0.0355, 200: 0.0887, 201: 0.071, 205: 0.0887, 212: 0.0621, 213: 0.0532, 215: 0.0532, 216: 0.071, 222: 0.0621, 225: 0.0621, 231: 0.0621, 232: 0.0532, 238: 0.071, 239: 0.0887, 246: 0.0887, 248: 0.071, 251: 0.0798, 262: 0.071, 263: 0.071, 265: 0.0355, 269: 0.0887, 272: 0.0887, 273: 0.071, 274: 0.0887, 275: 0.071, 276: 0.071, 278: 0.0532, 279: 0.0798, 287: 0.0798, 289: 0.071, 290: 0.071, 291: 0.071, 292: 0.0532, 297: 0.0355, 303: 0.0887, 306: 0.071, 313: 0.0532, 322: 0.0621, 327: 0.0887, 329: 0.071, 331: 0.071, 333: 0.0621, 335: 0.071, 336: 0.071, 338: 0.071, 340: 0.0887, 346: 0.0887, 349: 0.071, 352: 0.0887, 356: 0.0887, 358: 0.071, 363: 0.0887, 366: 0.0887, 371: 0.0532, 372: 0.0532, 377: 0.0798, 379: 0.0887, 380: 0.0621, 381: 0.0798, 384: 0.071, 388: 0.0887, 390: 0.0532, 395: 0.0887, 398: 0.071, 410: 0.0887, 411: 0.0355, 419: 0.071, 421: 0.071, 431: 0.0444, 435: 0.071, 437: 0.0798, 447: 0.0887, 450: 0.0887, 452: 0.0887, 455: 0.0887, 459: 0.0798, 461: 0.0266, 467: 0.071, 468: 0.071, 469: 0.071, 470: 0.0887, 473: 0.071, 475: 0.071, 476: 0.071, 479: 0.0532, 482: 0.071, 483: 0.0798, 487: 0.0798, 489: 0.0621, 491: 0.071, 499: 0.071, 503: 0.071, 508: 0.071, 513: 0.071, 516: 0.071, 521: 0.0532, 523: 0.071, 524: 0.071, 527: 0.0444, 528: 0.0532, 532: 0.0887, 533: 0.071, 540: 0.0532, 543: 0.0532, 549: 0.071, 554: 0.071, 558: 0.0887, 559: 0.0532, 560: 0.071, 561: 0.0798, 566: 0.0621, 569: 0.071, 571: 0.071, 572: 0.0887, 578: 0.071, 579: 0.0532, 583: 0.0887, 586: 0.0887, 589: 0.071, 595: 0.071, 596: 0.071, 598: 0.0532, 599: 0.0444, 600: 0.071, 602: 0.071, 603: 0.0532, 604: 0.071, 605: 0.0444, 606: 0.071, 607: 0.0444, 608: 0.0532, 609: 0.0887})),\n",
       " Row(movieId=2, features=SparseVector(610, {5: 4.0, 7: 4.0, 17: 3.0, 18: 3.0, 19: 3.0, 20: 3.5, 26: 4.0, 50: 4.5, 61: 4.0, 67: 2.5, 81: 3.0, 90: 3.0, 93: 4.0, 102: 4.0, 103: 3.0, 106: 5.0, 116: 3.0, 121: 4.0, 124: 4.0, 134: 3.0, 139: 3.5, 143: 3.0, 148: 1.0, 152: 2.0, 159: 4.0, 176: 3.5, 185: 4.0, 201: 4.0, 220: 3.5, 221: 2.5, 225: 3.0, 231: 4.0, 239: 5.0, 248: 4.0, 258: 2.0, 273: 3.5, 275: 4.0, 283: 4.0, 287: 2.0, 293: 3.0, 297: 0.5, 298: 3.0, 303: 4.0, 304: 3.5, 307: 3.0, 317: 3.5, 320: 5.0, 321: 3.0, 322: 4.0, 329: 1.5, 346: 3.0, 356: 3.0, 358: 3.5, 372: 3.0, 379: 5.0, 380: 4.0, 410: 4.0, 413: 3.0, 424: 3.0, 425: 4.5, 431: 4.0, 435: 4.0, 445: 3.0, 446: 5.0, 447: 3.0, 457: 4.0, 469: 3.0, 473: 3.0, 475: 4.0, 476: 4.0, 479: 3.0, 482: 4.0, 483: 2.5, 488: 2.5, 496: 2.5, 500: 3.0, 511: 3.0, 516: 3.0, 522: 4.5, 524: 3.5, 526: 4.0, 558: 4.0, 560: 4.0, 562: 2.5, 565: 4.0, 569: 3.5, 572: 4.5, 585: 4.0, 598: 2.5, 599: 4.0, 601: 4.0, 603: 5.0, 604: 3.5, 607: 2.0}), norm_features=SparseVector(610, {5: 0.1162, 7: 0.1162, 17: 0.0872, 18: 0.0872, 19: 0.0872, 20: 0.1017, 26: 0.1162, 50: 0.1308, 61: 0.1162, 67: 0.0727, 81: 0.0872, 90: 0.0872, 93: 0.1162, 102: 0.1162, 103: 0.0872, 106: 0.1453, 116: 0.0872, 121: 0.1162, 124: 0.1162, 134: 0.0872, 139: 0.1017, 143: 0.0872, 148: 0.0291, 152: 0.0581, 159: 0.1162, 176: 0.1017, 185: 0.1162, 201: 0.1162, 220: 0.1017, 221: 0.0727, 225: 0.0872, 231: 0.1162, 239: 0.1453, 248: 0.1162, 258: 0.0581, 273: 0.1017, 275: 0.1162, 283: 0.1162, 287: 0.0581, 293: 0.0872, 297: 0.0145, 298: 0.0872, 303: 0.1162, 304: 0.1017, 307: 0.0872, 317: 0.1017, 320: 0.1453, 321: 0.0872, 322: 0.1162, 329: 0.0436, 346: 0.0872, 356: 0.0872, 358: 0.1017, 372: 0.0872, 379: 0.1453, 380: 0.1162, 410: 0.1162, 413: 0.0872, 424: 0.0872, 425: 0.1308, 431: 0.1162, 435: 0.1162, 445: 0.0872, 446: 0.1453, 447: 0.0872, 457: 0.1162, 469: 0.0872, 473: 0.0872, 475: 0.1162, 476: 0.1162, 479: 0.0872, 482: 0.1162, 483: 0.0727, 488: 0.0727, 496: 0.0727, 500: 0.0872, 511: 0.0872, 516: 0.0872, 522: 0.1308, 524: 0.1017, 526: 0.1162, 558: 0.1162, 560: 0.1162, 562: 0.0727, 565: 0.1162, 569: 0.1017, 572: 0.1308, 585: 0.1162, 598: 0.0727, 599: 0.1162, 601: 0.1162, 603: 0.1453, 604: 0.1017, 607: 0.0581})),\n",
       " Row(movieId=3, features=SparseVector(610, {0: 4.0, 5: 5.0, 18: 3.0, 31: 3.0, 41: 4.0, 42: 5.0, 43: 3.0, 50: 4.0, 57: 3.0, 67: 2.0, 90: 3.0, 99: 3.5, 101: 5.0, 115: 3.5, 116: 3.0, 149: 3.0, 150: 3.0, 178: 4.0, 216: 1.0, 225: 3.5, 239: 4.0, 269: 3.0, 287: 4.0, 288: 2.5, 293: 1.0, 301: 3.0, 306: 3.5, 307: 0.5, 320: 3.0, 329: 3.0, 336: 4.0, 367: 3.0, 409: 4.0, 447: 3.0, 455: 3.0, 469: 3.0, 476: 3.0, 491: 4.0, 500: 5.0, 543: 3.0, 554: 5.0, 587: 3.0, 589: 3.0, 593: 4.0, 598: 1.5, 607: 2.0}), norm_features=SparseVector(610, {0: 0.1733, 5: 0.2166, 18: 0.13, 31: 0.13, 41: 0.1733, 42: 0.2166, 43: 0.13, 50: 0.1733, 57: 0.13, 67: 0.0866, 90: 0.13, 99: 0.1516, 101: 0.2166, 115: 0.1516, 116: 0.13, 149: 0.13, 150: 0.13, 178: 0.1733, 216: 0.0433, 225: 0.1516, 239: 0.1733, 269: 0.13, 287: 0.1733, 288: 0.1083, 293: 0.0433, 301: 0.13, 306: 0.1516, 307: 0.0217, 320: 0.13, 329: 0.13, 336: 0.1733, 367: 0.13, 409: 0.1733, 447: 0.13, 455: 0.13, 469: 0.13, 476: 0.13, 491: 0.1733, 500: 0.2166, 543: 0.13, 554: 0.2166, 587: 0.13, 589: 0.13, 593: 0.1733, 598: 0.065, 607: 0.0866})),\n",
       " Row(movieId=4, features=SparseVector(610, {5: 3.0, 13: 3.0, 83: 3.0, 261: 1.0, 410: 2.0, 599: 1.5}), norm_features=SparseVector(610, {5: 0.5126, 13: 0.5126, 83: 0.5126, 261: 0.1709, 410: 0.3417, 599: 0.2563})),\n",
       " Row(movieId=5, features=SparseVector(610, {5: 5.0, 30: 3.0, 42: 5.0, 44: 3.0, 57: 4.0, 65: 4.0, 67: 2.0, 83: 3.0, 102: 4.0, 106: 4.0, 110: 3.5, 116: 3.0, 119: 4.0, 120: 3.0, 146: 4.5, 168: 5.0, 169: 3.0, 180: 3.0, 199: 4.0, 228: 3.0, 268: 3.0, 269: 3.0, 275: 3.0, 287: 2.0, 320: 3.0, 352: 3.0, 388: 4.0, 401: 3.0, 413: 2.0, 436: 2.0, 447: 3.0, 450: 3.0, 455: 3.0, 457: 3.0, 469: 3.0, 473: 1.5, 482: 2.5, 488: 2.0, 489: 0.5, 491: 3.0, 500: 3.0, 508: 1.5, 520: 3.0, 560: 3.0, 589: 2.0, 599: 2.5, 603: 3.0}), norm_features=SparseVector(610, {5: 0.229, 30: 0.1374, 42: 0.229, 44: 0.1374, 57: 0.1832, 65: 0.1832, 67: 0.0916, 83: 0.1374, 102: 0.1832, 106: 0.1832, 110: 0.1603, 116: 0.1374, 119: 0.1832, 120: 0.1374, 146: 0.2061, 168: 0.229, 169: 0.1374, 180: 0.1374, 199: 0.1832, 228: 0.1374, 268: 0.1374, 269: 0.1374, 275: 0.1374, 287: 0.0916, 320: 0.1374, 352: 0.1374, 388: 0.1832, 401: 0.1374, 413: 0.0916, 436: 0.0916, 447: 0.1374, 450: 0.1374, 455: 0.1374, 457: 0.1374, 469: 0.1374, 473: 0.0687, 482: 0.1145, 488: 0.0916, 489: 0.0229, 491: 0.1374, 500: 0.1374, 508: 0.0687, 520: 0.1374, 560: 0.1374, 589: 0.0916, 599: 0.1145, 603: 0.1374}))]"
      ]
     },
     "execution_count": 4,
     "metadata": {},
     "output_type": "execute_result"
    }
   ],
   "source": [
    "from pyspark.ml.feature import Normalizer\n",
    "\n",
    "# normalizing with L2 (Euclidean) norm (p=2)\n",
    "normalizer = Normalizer(inputCol=\"features\", outputCol=\"norm_features\", p=2.0)\n",
    "normalized = normalizer.transform(item_vectors)\n",
    "\n",
    "normalized.take(5)"
   ]
  },
  {
   "cell_type": "markdown",
   "id": "91d138f5",
   "metadata": {},
   "source": [
    "now applying LSH (with `BucketedRandomProjectionLSH`), which is based on random projections for Euclidean distance, is equivalent to cosine similarity beccause the vectors are normalized\n",
    "\n",
    "$$\n",
    "\\cos(\\theta) = \\frac{a \\cdot b}{\\|a\\|_2 \\, \\|b\\|_2} \\Rightarrow \\cos(\\theta) = \\frac{a \\cdot b}{1 \\cdot 1} = a \\cdot b\n",
    "$$\n",
    "\n",
    "minimizing the Euclidean distance is now equivalent to maximizing the cosine similarity: approximation to cosine LSH\n",
    "\n",
    "*Note: this was needed because Spark doesn t have a direct cosine LSH implementation, and this is a good approximation without compromising the performance*"
   ]
  },
  {
   "cell_type": "code",
   "execution_count": 5,
   "id": "0a62a347",
   "metadata": {},
   "outputs": [
    {
     "name": "stderr",
     "output_type": "stream",
     "text": [
      "25/05/16 23:07:26 WARN InstanceBuilder: Failed to load implementation from:dev.ludovic.netlib.blas.JNIBLAS\n"
     ]
    }
   ],
   "source": [
    "from pyspark.ml.feature import BucketedRandomProjectionLSH\n",
    "\n",
    "lsh = BucketedRandomProjectionLSH(\n",
    "    inputCol=\"norm_features\",\n",
    "    outputCol=\"hashes\",\n",
    "    bucketLength=1.5,\n",
    "    numHashTables=3\n",
    ")\n",
    "\n",
    "# fit the model\n",
    "lsh_model = lsh.fit(normalized)"
   ]
  },
  {
   "cell_type": "markdown",
   "id": "7fc17753",
   "metadata": {},
   "source": [
    "get approximate nearest neighbors per movie (using LSH), along with their cosine similarity (derived from Euclidean distance from `approxSimilarityJoin`)\n",
    "\n",
    "$$\n",
    "\\cos(\\theta) = a \\cdot b = 1 - \\frac{1}{2} \\| a - b \\|_2^2\n",
    "$$\n",
    "\n",
    "because the vectors are normalized"
   ]
  },
  {
   "cell_type": "code",
   "execution_count": 6,
   "id": "aa4f7386",
   "metadata": {},
   "outputs": [
    {
     "name": "stderr",
     "output_type": "stream",
     "text": [
      "[Stage 24:======================================>                   (4 + 2) / 6]\r"
     ]
    },
    {
     "name": "stdout",
     "output_type": "stream",
     "text": [
      "+-------+-------+------------------+\n",
      "|movie_i|movie_j|cosine_sim        |\n",
      "+-------+-------+------------------+\n",
      "|78     |211    |0.5144957554275266|\n",
      "|104    |216    |0.5043347820644946|\n",
      "|119    |1647   |0.6837634587578277|\n",
      "|119    |4138   |0.7071067811865476|\n",
      "|179    |5258   |0.6324555320336759|\n",
      "+-------+-------+------------------+\n",
      "only showing top 5 rows\n",
      "\n"
     ]
    },
    {
     "name": "stderr",
     "output_type": "stream",
     "text": [
      "                                                                                \r"
     ]
    }
   ],
   "source": [
    "from pyspark.sql.functions import col\n",
    "\n",
    "# get the approximate neighbors\n",
    "neighbors = lsh_model.approxSimilarityJoin(\n",
    "    normalized,\n",
    "    normalized,\n",
    "    threshold=1.0, # distance threshold\n",
    "    distCol=\"distance\"\n",
    ").filter(col(\"datasetA.movieId\") < col(\"datasetB.movieId\"))  # avoid bottom triangle (reverse + self)\n",
    "\n",
    "# convert the distance to cosine similarity\n",
    "neighbors_cosine = neighbors.withColumn(\n",
    "    \"cosine_sim\",\n",
    "    1 - (col(\"distance\") ** 2) / 2\n",
    ").select(\n",
    "    col(\"datasetA.movieId\").alias(\"movie_i\"),\n",
    "    col(\"datasetB.movieId\").alias(\"movie_j\"),\n",
    "    \"cosine_sim\"\n",
    ")\n",
    "\n",
    "# add reverse pairs: (i,j) -> (i,j) and (j,i)\n",
    "reverse = neighbors_cosine.selectExpr(\"movie_j as movie_i\", \"movie_i as movie_j\", \"cosine_sim\")\n",
    "similarities = neighbors_cosine.union(reverse)\n",
    "\n",
    "similarities.show(5, truncate=False)"
   ]
  },
  {
   "cell_type": "markdown",
   "id": "a85c104d",
   "metadata": {},
   "source": [
    "# Test"
   ]
  },
  {
   "cell_type": "markdown",
   "id": "1d51959c",
   "metadata": {},
   "source": [
    "join the test set target movies with their similar (neighbor) and the user's corresponding ratings, to enable the prediction of the ratings"
   ]
  },
  {
   "cell_type": "code",
   "execution_count": 7,
   "id": "749106c4",
   "metadata": {},
   "outputs": [
    {
     "name": "stderr",
     "output_type": "stream",
     "text": [
      "[Stage 38:================================================>         (5 + 1) / 6]\r"
     ]
    },
    {
     "name": "stdout",
     "output_type": "stream",
     "text": [
      "+------+------------+--------------+------------------+---------------+\n",
      "|userId|target_movie|neighbor_movie|cosine_sim        |neighbor_rating|\n",
      "+------+------------+--------------+------------------+---------------+\n",
      "|590   |104         |216           |0.5043347820644946|2.0            |\n",
      "|103   |104         |216           |0.5043347820644946|4.0            |\n",
      "|68    |104         |216           |0.5043347820644946|3.5            |\n",
      "|599   |209         |210           |0.7786628214276602|2.0            |\n",
      "|592   |253         |316           |0.5044063048397824|4.0            |\n",
      "+------+------------+--------------+------------------+---------------+\n",
      "only showing top 5 rows\n",
      "\n"
     ]
    },
    {
     "name": "stderr",
     "output_type": "stream",
     "text": [
      "                                                                                \r"
     ]
    }
   ],
   "source": [
    "test_with_ratings = test.alias(\"t\") \\\n",
    "    .join(similarities.alias(\"s\"), col(\"t.movieId\") == col(\"s.movie_i\")) \\\n",
    "    .join(ratings.alias(\"r\"), (col(\"t.userId\") == col(\"r.userId\")) & (col(\"s.movie_j\") == col(\"r.movieId\"))) \\\n",
    "    .select(\n",
    "        col(\"t.userId\"),\n",
    "        col(\"t.movieId\").alias(\"target_movie\"),\n",
    "        col(\"s.movie_j\").alias(\"neighbor_movie\"),\n",
    "        col(\"s.cosine_sim\"),\n",
    "        col(\"r.rating\").alias(\"neighbor_rating\")\n",
    "    )\n",
    "\n",
    "test_with_ratings.show(5, truncate=False)"
   ]
  },
  {
   "cell_type": "markdown",
   "id": "1ca1a2cc",
   "metadata": {},
   "source": [
    "predict the ratings using the weighted avg of the neighbors ratings, weighted by their cosine similarity"
   ]
  },
  {
   "cell_type": "code",
   "execution_count": 8,
   "id": "030f1157",
   "metadata": {},
   "outputs": [
    {
     "name": "stderr",
     "output_type": "stream",
     "text": [
      "[Stage 57:===========>                                             (2 + 8) / 10]\r"
     ]
    },
    {
     "name": "stdout",
     "output_type": "stream",
     "text": [
      "+------+------------+------------------+\n",
      "|userId|target_movie|pred_rating       |\n",
      "+------+------------+------------------+\n",
      "|298   |296         |3.8626930722377613|\n",
      "|414   |4509        |2.535889787179544 |\n",
      "|599   |6811        |1.9619018308384149|\n",
      "|201   |2054        |4.670705945113926 |\n",
      "|474   |1667        |2.4185295298828886|\n",
      "+------+------------+------------------+\n",
      "only showing top 5 rows\n",
      "\n"
     ]
    },
    {
     "name": "stderr",
     "output_type": "stream",
     "text": [
      "                                                                                \r"
     ]
    }
   ],
   "source": [
    "from pyspark.sql.functions import sum as sql_sum, col\n",
    "\n",
    "predictions = test_with_ratings.groupBy(\"userId\", \"target_movie\").agg(\n",
    "    (sql_sum(col(\"cosine_sim\") * col(\"neighbor_rating\")) / sql_sum(col(\"cosine_sim\"))).alias(\"pred_rating\")\n",
    ")\n",
    "\n",
    "predictions.show(5, truncate=False)"
   ]
  },
  {
   "cell_type": "markdown",
   "id": "61e30006",
   "metadata": {},
   "source": [
    "# Result"
   ]
  },
  {
   "cell_type": "markdown",
   "id": "9dab2aa2",
   "metadata": {},
   "source": [
    "compare the predicted ratings with the actual ratings"
   ]
  },
  {
   "cell_type": "code",
   "execution_count": 9,
   "id": "8ae40249",
   "metadata": {},
   "outputs": [
    {
     "name": "stderr",
     "output_type": "stream",
     "text": [
      "[Stage 78:=============================================>           (8 + 2) / 10]\r"
     ]
    },
    {
     "name": "stdout",
     "output_type": "stream",
     "text": [
      "+------+-------+------------------+-------------+\n",
      "|userId|movieId|pred_rating       |actual_rating|\n",
      "+------+-------+------------------+-------------+\n",
      "|298   |296    |3.8626930722377613|4.5          |\n",
      "|414   |4509   |2.535889787179544 |3.0          |\n",
      "|599   |6811   |1.9619018308384149|3.0          |\n",
      "|201   |2054   |4.670705945113926 |4.0          |\n",
      "|474   |1667   |2.4185295298828886|2.0          |\n",
      "+------+-------+------------------+-------------+\n",
      "only showing top 5 rows\n",
      "\n"
     ]
    },
    {
     "name": "stderr",
     "output_type": "stream",
     "text": [
      "                                                                                \r"
     ]
    }
   ],
   "source": [
    "final = predictions.alias(\"p\").join(\n",
    "    test.alias(\"t\"),\n",
    "    (col(\"p.userId\") == col(\"t.userId\")) & (col(\"p.target_movie\") == col(\"t.movieId\"))\n",
    ").select(\n",
    "    col(\"t.userId\"),\n",
    "    col(\"t.movieId\"),\n",
    "    col(\"p.pred_rating\"),\n",
    "    col(\"t.rating\").alias(\"actual_rating\")\n",
    ")\n",
    "\n",
    "final.show(5, truncate=False)"
   ]
  },
  {
   "cell_type": "markdown",
   "id": "e6fac7e6",
   "metadata": {},
   "source": [
    "evaluate the predicted ratings using RMSE and MAE\n",
    "\n",
    "$$\n",
    "\\mathrm{MAE} = \\frac{1}{n} \\sum_{i=1}^{n} \\left| y_i - \\hat{y}_i \\right| \\ \\ \\ \\ \\ \\ \\ \\ \\mathrm{RMSE} = \\sqrt{ \\frac{1}{n} \\sum_{i=1}^{n} \\left( y_i - \\hat{y}_i \\right)^2 }\n",
    "$$"
   ]
  },
  {
   "cell_type": "code",
   "execution_count": 10,
   "id": "cb2a2e48",
   "metadata": {},
   "outputs": [
    {
     "name": "stderr",
     "output_type": "stream",
     "text": [
      "                                                                                \r"
     ]
    },
    {
     "name": "stdout",
     "output_type": "stream",
     "text": [
      "RMSE: 0.9150\n"
     ]
    },
    {
     "name": "stderr",
     "output_type": "stream",
     "text": [
      "[Stage 120:=====>                                                  (1 + 8) / 10]\r"
     ]
    },
    {
     "name": "stdout",
     "output_type": "stream",
     "text": [
      "MAE: 0.6638\n"
     ]
    },
    {
     "name": "stderr",
     "output_type": "stream",
     "text": [
      "                                                                                \r"
     ]
    }
   ],
   "source": [
    "from pyspark.ml.evaluation import RegressionEvaluator\n",
    "\n",
    "# RMSE\n",
    "evaluator = RegressionEvaluator(metricName=\"rmse\", labelCol=\"actual_rating\", predictionCol=\"pred_rating\")\n",
    "rmse = evaluator.evaluate(final)\n",
    "print(f\"RMSE: {rmse:.4f}\")\n",
    "\n",
    "# MAE\n",
    "mae_evaluator = RegressionEvaluator(metricName=\"mae\", labelCol=\"actual_rating\", predictionCol=\"pred_rating\")\n",
    "mae = mae_evaluator.evaluate(final)\n",
    "print(f\"MAE: {mae:.4f}\")\n"
   ]
  },
  {
   "cell_type": "code",
   "execution_count": null,
   "id": "56483363",
   "metadata": {},
   "outputs": [],
   "source": []
  }
 ],
 "metadata": {
  "kernelspec": {
   "display_name": "MDLE",
   "language": "python",
   "name": "python3"
  },
  "language_info": {
   "codemirror_mode": {
    "name": "ipython",
    "version": 3
   },
   "file_extension": ".py",
   "mimetype": "text/x-python",
   "name": "python",
   "nbconvert_exporter": "python",
   "pygments_lexer": "ipython3",
   "version": "3.10.16"
  }
 },
 "nbformat": 4,
 "nbformat_minor": 5
}
